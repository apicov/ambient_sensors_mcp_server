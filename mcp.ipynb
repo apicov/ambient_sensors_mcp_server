{
 "cells": [
  {
   "cell_type": "code",
   "execution_count": 3,
   "id": "ac27b75b",
   "metadata": {},
   "outputs": [
    {
     "data": {
      "text/plain": [
       "True"
      ]
     },
     "execution_count": 3,
     "metadata": {},
     "output_type": "execute_result"
    }
   ],
   "source": [
    "from mcp.server import Server\n",
    "import mcp.types as types\n",
    "\n",
    "import os\n",
    "import psycopg2\n",
    "from psycopg2.extensions import ISOLATION_LEVEL_AUTOCOMMIT\n",
    "from dotenv import load_dotenv\n",
    "load_dotenv()"
   ]
  },
  {
   "cell_type": "code",
   "execution_count": 14,
   "id": "b598bc57",
   "metadata": {},
   "outputs": [],
   "source": [
    "# Database configuration\n",
    "DB_CONFIG_COLUMNAR = {\n",
    "    'host': os.getenv(\"DB_HOST\"),\n",
    "    'database': 'ambient_sensors_columnar',\n",
    "    'user': os.getenv(\"DB_USER\"),\n",
    "    'password': os.getenv(\"DB_PASSWORD\"),\n",
    "    'port': 5432\n",
    "}\n",
    "\n",
    "conn = psycopg2.connect(**DB_CONFIG_COLUMNAR)\n",
    "conn.set_isolation_level(ISOLATION_LEVEL_AUTOCOMMIT)\n",
    "\n",
    "cur = conn.cursor()"
   ]
  },
  {
   "cell_type": "code",
   "execution_count": 4,
   "id": "d70099e1",
   "metadata": {},
   "outputs": [],
   "source": [
    "app = Server(\"sensor-data-server\")"
   ]
  },
  {
   "cell_type": "code",
   "execution_count": 26,
   "id": "9e7f3f4f",
   "metadata": {},
   "outputs": [],
   "source": [
    "def create_sensor_dict(results, description):\n",
    "    sensor_dict = {}\n",
    "    for row in results:\n",
    "        sensor_id = row[0]\n",
    "        sensor_info = {description[i]: row[i] for i in range(1, len(description))}\n",
    "        sensor_dict[sensor_id] = sensor_info\n",
    "    return sensor_dict\n",
    "\n",
    "def list_sensors() -> dict:\n",
    "    cur.execute(\"SELECT * FROM sensors\")\n",
    "    results = cur.fetchall()\n",
    "    description = [d.name for d in cur.description]\n",
    "    resp_dict = create_sensor_dict(results, description)\n",
    "    return resp_dict"
   ]
  },
  {
   "cell_type": "code",
   "execution_count": 27,
   "id": "61715663",
   "metadata": {},
   "outputs": [],
   "source": [
    "@app.list_tools()\n",
    "async def list_tools() -> list[types.Tool]:\n",
    "    return [\n",
    "        types.Tool(\n",
    "            name=\"list_sensors\",\n",
    "            description=\"Get list of available sensors from the database\",\n",
    "            inputSchema={\n",
    "                \"type\": \"object\",\n",
    "                \"properties\": {},\n",
    "                \"required\": []\n",
    "            }\n",
    "        )\n",
    "    ]\n",
    "\n",
    "@app.call_tool()\n",
    "async def call_tool(name: str, arguments: dict) -> list[types.TextContent]:\n",
    "    if name == \"list_sensors\":\n",
    "        sensors = list_sensors()\n",
    "        result_text = str(sensors)\n",
    "        \n",
    "        return [types.TextContent(\n",
    "            type=\"text\",\n",
    "            text=result_text\n",
    "        )]\n",
    "    \n",
    "    raise ValueError(f\"Unknown tool: {name}\")"
   ]
  },
  {
   "cell_type": "code",
   "execution_count": null,
   "id": "3a9e143c",
   "metadata": {},
   "outputs": [
    {
     "name": "stdout",
     "output_type": "stream",
     "text": [
      "[(1, 'esp32_c6_sensor_hub', 'bmp280', 'home', {'type': 'multi_value', 'fields': {'humidity': {'unit': '%RH', 'accuracy': 3, 'max_range': 100, 'min_range': 0, 'metric_type': 'humidity'}, 'pressure': {'unit': 'Pa', 'accuracy': 12, 'max_range': 110000, 'min_range': 30000, 'metric_type': 'pressure'}, 'temperature': {'unit': '°C', 'accuracy': 1, 'max_range': 85, 'min_range': -40, 'metric_type': 'temperature'}}, 'location': 'home', 'description': 'BME280 environmental sensor (pressure, temperature, humidity)'}, datetime.datetime(2025, 10, 23, 13, 6, 48, 700103, tzinfo=datetime.timezone.utc)), (2, 'esp32_c6_sensor_hub', 'scd30', 'home', {'type': 'multi_value', 'fields': {'co2': {'unit': 'ppm', 'accuracy': 30, 'max_range': 10000, 'min_range': 400, 'metric_type': 'co2'}, 'humidity': {'unit': '%RH', 'accuracy': 3, 'max_range': 100, 'min_range': 0, 'metric_type': 'humidity'}, 'temperature': {'unit': '°C', 'accuracy': 0.4000000059604645, 'max_range': 70, 'min_range': -40, 'metric_type': 'temperature'}}, 'location': 'home', 'description': 'SCD30 environmental sensor (CO2, temperature, humidity)'}, datetime.datetime(2025, 10, 23, 13, 6, 48, 704366, tzinfo=datetime.timezone.utc))]\n",
      "['sensor_id', 'device_id', 'sensor_type', 'location', 'metadata', 'installed_date']\n",
      "{1: {'device_id': 'esp32_c6_sensor_hub', 'sensor_type': 'bmp280', 'location': 'home', 'metadata': {'type': 'multi_value', 'fields': {'humidity': {'unit': '%RH', 'accuracy': 3, 'max_range': 100, 'min_range': 0, 'metric_type': 'humidity'}, 'pressure': {'unit': 'Pa', 'accuracy': 12, 'max_range': 110000, 'min_range': 30000, 'metric_type': 'pressure'}, 'temperature': {'unit': '°C', 'accuracy': 1, 'max_range': 85, 'min_range': -40, 'metric_type': 'temperature'}}, 'location': 'home', 'description': 'BME280 environmental sensor (pressure, temperature, humidity)'}, 'installed_date': datetime.datetime(2025, 10, 23, 13, 6, 48, 700103, tzinfo=datetime.timezone.utc)}, 2: {'device_id': 'esp32_c6_sensor_hub', 'sensor_type': 'scd30', 'location': 'home', 'metadata': {'type': 'multi_value', 'fields': {'co2': {'unit': 'ppm', 'accuracy': 30, 'max_range': 10000, 'min_range': 400, 'metric_type': 'co2'}, 'humidity': {'unit': '%RH', 'accuracy': 3, 'max_range': 100, 'min_range': 0, 'metric_type': 'humidity'}, 'temperature': {'unit': '°C', 'accuracy': 0.4000000059604645, 'max_range': 70, 'min_range': -40, 'metric_type': 'temperature'}}, 'location': 'home', 'description': 'SCD30 environmental sensor (CO2, temperature, humidity)'}, 'installed_date': datetime.datetime(2025, 10, 23, 13, 6, 48, 704366, tzinfo=datetime.timezone.utc)}}\n"
     ]
    }
   ],
   "source": [
    "\n",
    "\n"
   ]
  },
  {
   "cell_type": "code",
   "execution_count": 12,
   "id": "44b81c91",
   "metadata": {},
   "outputs": [],
   "source": [
    "cur.close()\n",
    "conn.close()"
   ]
  },
  {
   "cell_type": "code",
   "execution_count": 20,
   "id": "92ad6cb6",
   "metadata": {},
   "outputs": [
    {
     "data": {
      "text/plain": [
       "(Column(name='sensor_id', type_code=23),\n",
       " Column(name='device_id', type_code=1043),\n",
       " Column(name='sensor_type', type_code=1043),\n",
       " Column(name='location', type_code=1043),\n",
       " Column(name='metadata', type_code=3802),\n",
       " Column(name='installed_date', type_code=1184))"
      ]
     },
     "execution_count": 20,
     "metadata": {},
     "output_type": "execute_result"
    }
   ],
   "source": [
    "description"
   ]
  },
  {
   "cell_type": "code",
   "execution_count": 22,
   "id": "d2f6dd2a",
   "metadata": {},
   "outputs": [
    {
     "data": {
      "text/plain": [
       "(1,\n",
       " 'esp32_c6_sensor_hub',\n",
       " 'bmp280',\n",
       " 'home',\n",
       " {'type': 'multi_value',\n",
       "  'fields': {'humidity': {'unit': '%RH',\n",
       "    'accuracy': 3,\n",
       "    'max_range': 100,\n",
       "    'min_range': 0,\n",
       "    'metric_type': 'humidity'},\n",
       "   'pressure': {'unit': 'Pa',\n",
       "    'accuracy': 12,\n",
       "    'max_range': 110000,\n",
       "    'min_range': 30000,\n",
       "    'metric_type': 'pressure'},\n",
       "   'temperature': {'unit': '°C',\n",
       "    'accuracy': 1,\n",
       "    'max_range': 85,\n",
       "    'min_range': -40,\n",
       "    'metric_type': 'temperature'}},\n",
       "  'location': 'home',\n",
       "  'description': 'BME280 environmental sensor (pressure, temperature, humidity)'},\n",
       " datetime.datetime(2025, 10, 23, 13, 6, 48, 700103, tzinfo=datetime.timezone.utc))"
      ]
     },
     "execution_count": 22,
     "metadata": {},
     "output_type": "execute_result"
    }
   ],
   "source": [
    "results[0]"
   ]
  },
  {
   "cell_type": "code",
   "execution_count": null,
   "id": "4e9ef567",
   "metadata": {},
   "outputs": [],
   "source": []
  },
  {
   "cell_type": "code",
   "execution_count": null,
   "id": "43467b9f",
   "metadata": {},
   "outputs": [],
   "source": []
  },
  {
   "cell_type": "code",
   "execution_count": null,
   "id": "8e94ad57",
   "metadata": {},
   "outputs": [],
   "source": []
  }
 ],
 "metadata": {
  "kernelspec": {
   "display_name": "ml",
   "language": "python",
   "name": "ml"
  },
  "language_info": {
   "codemirror_mode": {
    "name": "ipython",
    "version": 3
   },
   "file_extension": ".py",
   "mimetype": "text/x-python",
   "name": "python",
   "nbconvert_exporter": "python",
   "pygments_lexer": "ipython3",
   "version": "3.13.7"
  }
 },
 "nbformat": 4,
 "nbformat_minor": 5
}
