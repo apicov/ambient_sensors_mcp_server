{
 "cells": [
  {
   "cell_type": "code",
   "execution_count": 3,
   "id": "275c04bf",
   "metadata": {},
   "outputs": [
    {
     "data": {
      "text/plain": [
       "True"
      ]
     },
     "execution_count": 3,
     "metadata": {},
     "output_type": "execute_result"
    }
   ],
   "source": [
    "import os\n",
    "import psycopg2\n",
    "from psycopg2.extensions import ISOLATION_LEVEL_AUTOCOMMIT\n",
    "from dotenv import load_dotenv\n",
    "load_dotenv()"
   ]
  },
  {
   "cell_type": "code",
   "execution_count": 28,
   "id": "462a5158",
   "metadata": {},
   "outputs": [],
   "source": [
    "def create_columnar_database(host, user, password, port=5432):\n",
    "    \"\"\"Create database with separate tables per sensor type\"\"\"\n",
    "    \n",
    "    # Create database\n",
    "    conn = psycopg2.connect(host=host, database=\"postgres\", user=user, password=password, port=port)\n",
    "    conn.set_isolation_level(ISOLATION_LEVEL_AUTOCOMMIT)\n",
    "    cur = conn.cursor()\n",
    "    \n",
    "    cur.execute(\"SELECT 1 FROM pg_database WHERE datname='ambient_sensors_columnar'\")\n",
    "    if not cur.fetchone():\n",
    "        cur.execute(\"CREATE DATABASE ambient_sensors_columnar\")\n",
    "        print(\"Columnar database created!\")\n",
    "    \n",
    "    cur.close()\n",
    "    conn.close()\n",
    "    \n",
    "    # Connect and create tables\n",
    "    conn = psycopg2.connect(host=host, database=\"ambient_sensors_columnar\", user=user, password=password, port=port)\n",
    "    cur = conn.cursor()\n",
    "    \n",
    "    cur.execute(\"CREATE EXTENSION IF NOT EXISTS timescaledb;\")\n",
    "\n",
    "    # Devices table\n",
    "    cur.execute(\"\"\"\n",
    "    CREATE TABLE IF NOT EXISTS devices (\n",
    "        device_id VARCHAR(100) PRIMARY KEY,\n",
    "        device_name VARCHAR(200),\n",
    "        location VARCHAR(200),\n",
    "        firmware_version VARCHAR(50),\n",
    "        installed_date TIMESTAMPTZ DEFAULT NOW()\n",
    "    );\n",
    "\"\"\")\n",
    "    \n",
    "    # Sensors table with metadata JSONB column\n",
    "    cur.execute(\"\"\"\n",
    "        CREATE TABLE IF NOT EXISTS sensors (\n",
    "            sensor_id SERIAL PRIMARY KEY,\n",
    "            device_id VARCHAR(100) NOT NULL,\n",
    "            sensor_type VARCHAR(50) NOT NULL,\n",
    "            location VARCHAR(200),\n",
    "            metadata JSONB,\n",
    "            installed_date TIMESTAMPTZ DEFAULT NOW()\n",
    "        );\n",
    "    \"\"\")\n",
    "    \n",
    "    # SCD30 measurements\n",
    "    cur.execute(\"\"\"\n",
    "        CREATE TABLE IF NOT EXISTS scd30_measurements (\n",
    "            time TIMESTAMPTZ NOT NULL,\n",
    "            sensor_id INTEGER REFERENCES sensors(sensor_id),\n",
    "            co2 FLOAT,\n",
    "            temperature FLOAT,\n",
    "            humidity FLOAT\n",
    "        );\n",
    "    \"\"\")\n",
    "    \n",
    "    # BMP280 measurements\n",
    "    cur.execute(\"\"\"\n",
    "        CREATE TABLE IF NOT EXISTS bmp280_measurements (\n",
    "            time TIMESTAMPTZ NOT NULL,\n",
    "            sensor_id INTEGER REFERENCES sensors(sensor_id),\n",
    "            pressure FLOAT,\n",
    "            temperature FLOAT,\n",
    "            humidity FLOAT\n",
    "        );\n",
    "    \"\"\")\n",
    "    \n",
    "    # Create hypertables\n",
    "    for table in ['scd30_measurements', 'bmp280_measurements']:\n",
    "        cur.execute(f\"\"\"\n",
    "            SELECT 1 FROM timescaledb_information.hypertables \n",
    "            WHERE hypertable_name = '{table}'\n",
    "        \"\"\")\n",
    "        if not cur.fetchone():\n",
    "            cur.execute(f\"SELECT create_hypertable('{table}', 'time');\")\n",
    "    \n",
    "    conn.commit()\n",
    "    cur.close()\n",
    "    conn.close()\n",
    "    print(\"Columnar schema created!\")"
   ]
  },
  {
   "cell_type": "code",
   "execution_count": 29,
   "id": "26f27524",
   "metadata": {},
   "outputs": [
    {
     "name": "stdout",
     "output_type": "stream",
     "text": [
      "Columnar database created!\n",
      "Columnar schema created!\n"
     ]
    }
   ],
   "source": [
    "create_columnar_database(\n",
    "    host=os.getenv(\"DB_HOST\"),\n",
    "    user=os.getenv(\"DB_USER\"),\n",
    "    password=os.getenv(\"DB_PASSWORD\"),\n",
    "    port=5432\n",
    ")"
   ]
  },
  {
   "cell_type": "code",
   "execution_count": 26,
   "id": "3b54855c",
   "metadata": {},
   "outputs": [],
   "source": [
    "def create_flexible_database(host, user, password, port=5432):\n",
    "    \"\"\"Create database with flexible metric_type structure\"\"\"\n",
    "    \n",
    "    # Create database\n",
    "    conn = psycopg2.connect(host=host, database=\"postgres\", user=user, password=password, port=port)\n",
    "    conn.set_isolation_level(ISOLATION_LEVEL_AUTOCOMMIT)\n",
    "    cur = conn.cursor()\n",
    "    \n",
    "    cur.execute(\"SELECT 1 FROM pg_database WHERE datname='ambient_sensors_flexible'\")\n",
    "    if not cur.fetchone():\n",
    "        cur.execute(\"CREATE DATABASE ambient_sensors_flexible\")\n",
    "        print(\"Flexible database created!\")\n",
    "    \n",
    "    cur.close()\n",
    "    conn.close()\n",
    "    \n",
    "    # Connect and create tables\n",
    "    conn = psycopg2.connect(host=host, database=\"ambient_sensors_flexible\", user=user, password=password, port=port)\n",
    "    cur = conn.cursor()\n",
    "    \n",
    "    cur.execute(\"CREATE EXTENSION IF NOT EXISTS timescaledb;\")\n",
    "\n",
    "   # Devices table\n",
    "    cur.execute(\"\"\"\n",
    "    CREATE TABLE IF NOT EXISTS devices (\n",
    "        device_id VARCHAR(100) PRIMARY KEY,\n",
    "        device_name VARCHAR(200),\n",
    "        location VARCHAR(200),\n",
    "        firmware_version VARCHAR(50),\n",
    "        installed_date TIMESTAMPTZ DEFAULT NOW()\n",
    "    );\n",
    "\"\"\")\n",
    "\n",
    "    # Sensors table with metadata JSONB column\n",
    "    cur.execute(\"\"\"\n",
    "        CREATE TABLE IF NOT EXISTS sensors (\n",
    "            sensor_id SERIAL PRIMARY KEY,\n",
    "            device_id VARCHAR(100) NOT NULL,\n",
    "            sensor_type VARCHAR(50) NOT NULL,\n",
    "            location VARCHAR(200),\n",
    "            metadata JSONB,\n",
    "            installed_date TIMESTAMPTZ DEFAULT NOW()\n",
    "        );\n",
    "    \"\"\")\n",
    "    \n",
    "    # Flexible measurements\n",
    "    cur.execute(\"\"\"\n",
    "        CREATE TABLE IF NOT EXISTS measurements (\n",
    "            time TIMESTAMPTZ NOT NULL,\n",
    "            sensor_id INTEGER REFERENCES sensors(sensor_id),\n",
    "            metric_type VARCHAR(50) NOT NULL,\n",
    "            value FLOAT\n",
    "        );\n",
    "    \"\"\")\n",
    "    \n",
    "    # Create hypertable\n",
    "    cur.execute(\"\"\"\n",
    "        SELECT 1 FROM timescaledb_information.hypertables \n",
    "        WHERE hypertable_name = 'measurements'\n",
    "    \"\"\")\n",
    "    if not cur.fetchone():\n",
    "        cur.execute(\"SELECT create_hypertable('measurements', 'time');\")\n",
    "    \n",
    "    conn.commit()\n",
    "    cur.close()\n",
    "    conn.close()\n",
    "    print(\"Flexible schema created!\")"
   ]
  },
  {
   "cell_type": "code",
   "execution_count": 27,
   "id": "3a8795e6",
   "metadata": {},
   "outputs": [
    {
     "name": "stdout",
     "output_type": "stream",
     "text": [
      "Flexible database created!\n",
      "Flexible schema created!\n"
     ]
    }
   ],
   "source": [
    "create_flexible_database(\n",
    "    host=os.getenv(\"DB_HOST\"),\n",
    "    user=os.getenv(\"DB_USER\"),\n",
    "    password=os.getenv(\"DB_PASSWORD\"),\n",
    "    port=5432\n",
    ")"
   ]
  },
  {
   "cell_type": "code",
   "execution_count": 4,
   "id": "aba3225a",
   "metadata": {},
   "outputs": [],
   "source": [
    "def delete_database(database_name):\n",
    "    # Connect to postgres database instead\n",
    "    try:\n",
    "        conn = psycopg2.connect(\n",
    "            host=os.getenv(\"DB_HOST\"),\n",
    "            database=\"postgres\",\n",
    "            user=os.getenv(\"DB_USER\"),\n",
    "            password=os.getenv(\"DB_PASSWORD\"),\n",
    "            port=5432\n",
    "        )\n",
    "        conn.set_isolation_level(ISOLATION_LEVEL_AUTOCOMMIT)\n",
    "\n",
    "        cur = conn.cursor()\n",
    "\n",
    "        cur.execute(f\"\"\"\n",
    "            SELECT pg_terminate_backend(pid) \n",
    "            FROM pg_stat_activity \n",
    "            WHERE datname = '{database_name}' AND pid <> pg_backend_pid();\n",
    "        \"\"\")\n",
    "\n",
    "        cur.execute(f\"DROP DATABASE {database_name};\")\n",
    "\n",
    "        cur.close()\n",
    "        conn.close()\n",
    "        print(\"Connection successful!\")\n",
    "    except Exception as e:\n",
    "        print(f\"Connection failed: {e}\")    "
   ]
  },
  {
   "cell_type": "code",
   "execution_count": null,
   "id": "1ba5a055",
   "metadata": {},
   "outputs": [
    {
     "name": "stdout",
     "output_type": "stream",
     "text": [
      "Connection successful!\n",
      "Connection successful!\n"
     ]
    }
   ],
   "source": [
    "#delete_database(\"ambient_sensors_columnar\")\n",
    "#delete_database(\"ambient_sensors_flexible\")"
   ]
  },
  {
   "cell_type": "code",
   "execution_count": 28,
   "id": "97281952",
   "metadata": {},
   "outputs": [],
   "source": [
    "conn.close()"
   ]
  },
  {
   "cell_type": "code",
   "execution_count": null,
   "id": "d91c1c03",
   "metadata": {},
   "outputs": [],
   "source": [
    "import datetime"
   ]
  },
  {
   "cell_type": "code",
   "execution_count": 20,
   "id": "dba2e33d",
   "metadata": {},
   "outputs": [
    {
     "data": {
      "text/plain": [
       "datetime.datetime(2025, 10, 23, 10, 52, 24, tzinfo=datetime.timezone.utc)"
      ]
     },
     "execution_count": 20,
     "metadata": {},
     "output_type": "execute_result"
    }
   ],
   "source": [
    "datetime.datetime.fromtimestamp(1761216744, tz=datetime.timezone.utc)"
   ]
  },
  {
   "cell_type": "code",
   "execution_count": null,
   "id": "fcc035f6",
   "metadata": {},
   "outputs": [],
   "source": []
  }
 ],
 "metadata": {
  "kernelspec": {
   "display_name": "ml",
   "language": "python",
   "name": "ml"
  },
  "language_info": {
   "codemirror_mode": {
    "name": "ipython",
    "version": 3
   },
   "file_extension": ".py",
   "mimetype": "text/x-python",
   "name": "python",
   "nbconvert_exporter": "python",
   "pygments_lexer": "ipython3",
   "version": "3.13.7"
  }
 },
 "nbformat": 4,
 "nbformat_minor": 5
}
